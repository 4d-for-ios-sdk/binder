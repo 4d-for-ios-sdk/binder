{
 "cells": [
  {
   "cell_type": "markdown",
   "metadata": {},
   "source": [
    "# Kotlin\n",
    "\n",
    "[Kotlin](https://kotlinlang.org/) is a relative newcomer from [JetBrains](https://www.jetbrains.com/) and [Android](https://developer.android.com/kotlin/get-started.html).  It's intended to be an improved version of Java, including [Null Safety](https://kotlinlang.org/docs/reference/null-safety.html)."
   ]
  },
  {
   "cell_type": "code",
   "execution_count": null,
   "metadata": {},
   "outputs": [],
   "source": [
    "fun double(x: Int): Int {\n",
    "    return 2*x\n",
    "}\n",
    "val x = 23"
   ]
  },
  {
   "cell_type": "code",
   "execution_count": null,
   "metadata": {},
   "outputs": [],
   "source": [
    "\"hello, \" + double(3) + x"
   ]
  },
  {
   "cell_type": "code",
   "execution_count": null,
   "metadata": {},
   "outputs": [],
   "source": [
    "val numbers: MutableList<Number> = mutableListOf(1, 4, 3)\n",
    "val line = Line()\n",
    "line.setY(numbers)\n",
    "val plot = Plot()\n",
    "plot.setTitle(\"Kotlin Plotting\")\n",
    "plot.add(line)\n",
    "plot"
   ]
  },
  {
   "cell_type": "markdown",
   "metadata": {},
   "source": [
    "# Install\n"
   ]
  },
  {
   "cell_type": "code",
   "execution_count": 1,
   "metadata": {},
   "outputs": [],
   "source": [
    "import sys"
   ]
  },
  {
   "cell_type": "code",
   "execution_count": 2,
   "metadata": {},
   "outputs": [
    {
     "name": "stdout",
     "output_type": "stream",
     "text": [
      "Collecting beakerx\n",
      "\u001b[?25l  Downloading https://files.pythonhosted.org/packages/d7/f3/08a7e89ed556ed98b5b1df753b0d4687598e41f6a534b331b9450cd594e4/beakerx-1.4.1.tar.gz (117.7MB)\n",
      "\u001b[K     |████████████████████████████████| 117.7MB 3.4MB/s eta 0:00:01    |███▌                            | 12.9MB 2.4MB/s eta 0:00:43     |██████▉                         | 25.0MB 2.4MB/s eta 0:00:39     |███████▋                        | 28.1MB 2.4MB/s eta 0:00:37     |████████▌                       | 31.3MB 2.4MB/s eta 0:00:36     |███████████████████▎            | 70.9MB 3.9MB/s eta 0:00:12\n",
      "\u001b[?25hCollecting panda\n",
      "  Downloading https://files.pythonhosted.org/packages/79/03/74996420528fe488ce17c42b6400531c8067d7eb661c304fa3aa8fdad17c/panda-0.3.1.tar.gz\n",
      "Collecting plot\n",
      "\u001b[?25l  Downloading https://files.pythonhosted.org/packages/92/a7/11ea0c7379e6883340330c473e0b0cf4ab159e0057380cfdad5b708cbcd8/plot-0.6.4-py2.py3-none-any.whl (80kB)\n",
      "\u001b[K     |████████████████████████████████| 81kB 26.7MB/s eta 0:00:01\n",
      "\u001b[?25hCollecting chart\n",
      "  Downloading https://files.pythonhosted.org/packages/b3/e0/b10edf6b4ed5d4bc26b8d9b63d769b85efac89f186a733c73147561f1dd3/chart-0.2.3.tar.gz\n",
      "Collecting pandas\n",
      "\u001b[?25l  Downloading https://files.pythonhosted.org/packages/63/e0/a1b39cdcb2c391f087a1538bc8a6d62a82d0439693192aef541d7b123769/pandas-0.25.3-cp37-cp37m-manylinux1_x86_64.whl (10.4MB)\n",
      "\u001b[K     |████████████████████████████████| 10.4MB 64.7MB/s eta 0:00:01    |████████████████                | 5.2MB 64.7MB/s eta 0:00:01\n",
      "\u001b[?25hCollecting py4j\n",
      "\u001b[?25l  Downloading https://files.pythonhosted.org/packages/04/de/2d314a921ef4c20b283e1de94e0780273678caac901564df06b948e4ba9b/py4j-0.10.8.1-py2.py3-none-any.whl (196kB)\n",
      "\u001b[K     |████████████████████████████████| 204kB 52.1MB/s eta 0:00:01\n",
      "\u001b[?25hRequirement already satisfied: ipykernel in /srv/conda/envs/notebook/lib/python3.7/site-packages (5.1.2)\n",
      "Requirement already satisfied: setuptools in /srv/conda/envs/notebook/lib/python3.7/site-packages (from panda) (41.2.0)\n",
      "Requirement already satisfied: requests in /srv/conda/envs/notebook/lib/python3.7/site-packages (from panda) (2.22.0)\n",
      "Collecting matplotlib (from plot)\n",
      "\u001b[?25l  Downloading https://files.pythonhosted.org/packages/61/42/3e92d7aa64295483fbca20a86c89b34d0cb43cffaadaffe028793902d790/matplotlib-3.1.2-cp37-cp37m-manylinux1_x86_64.whl (13.1MB)\n",
      "\u001b[K     |████████████████████████████████| 13.1MB 22.0MB/s eta 0:00:01    |█████▌                          | 2.2MB 22.0MB/s eta 0:00:01\n",
      "\u001b[?25hCollecting pyyaml (from plot)\n",
      "\u001b[?25l  Downloading https://files.pythonhosted.org/packages/8d/c9/e5be955a117a1ac548cdd31e37e8fd7b02ce987f9655f5c7563c656d5dcb/PyYAML-5.2.tar.gz (265kB)\n",
      "\u001b[K     |████████████████████████████████| 266kB 57.0MB/s eta 0:00:01\n",
      "\u001b[?25hCollecting typing (from plot)\n",
      "  Downloading https://files.pythonhosted.org/packages/fe/2e/b480ee1b75e6d17d2993738670e75c1feeb9ff7f64452153cf018051cc92/typing-3.7.4.1-py3-none-any.whl\n",
      "Collecting numpy (from plot)\n",
      "\u001b[?25l  Downloading https://files.pythonhosted.org/packages/9b/af/4fc72f9d38e43b092e91e5b8cb9956d25b2e3ff8c75aed95df5569e4734e/numpy-1.17.4-cp37-cp37m-manylinux1_x86_64.whl (20.0MB)\n",
      "\u001b[K     |████████████████████████████████| 20.0MB 42.1MB/s eta 0:00:01 266kB 42.1MB/s eta 0:00:01\n",
      "\u001b[?25hRequirement already satisfied: python-dateutil>=2.6.1 in /srv/conda/envs/notebook/lib/python3.7/site-packages (from pandas) (2.8.0)\n",
      "Collecting pytz>=2017.2 (from pandas)\n",
      "\u001b[?25l  Downloading https://files.pythonhosted.org/packages/e7/f9/f0b53f88060247251bf481fa6ea62cd0d25bf1b11a87888e53ce5b7c8ad2/pytz-2019.3-py2.py3-none-any.whl (509kB)\n",
      "\u001b[K     |████████████████████████████████| 512kB 23.8MB/s eta 0:00:01\n",
      "\u001b[?25hRequirement already satisfied: jupyter-client in /srv/conda/envs/notebook/lib/python3.7/site-packages (from ipykernel) (5.3.1)\n",
      "Requirement already satisfied: traitlets>=4.1.0 in /srv/conda/envs/notebook/lib/python3.7/site-packages (from ipykernel) (4.3.2)\n",
      "Requirement already satisfied: ipython>=5.0.0 in /srv/conda/envs/notebook/lib/python3.7/site-packages (from ipykernel) (7.8.0)\n",
      "Requirement already satisfied: tornado>=4.2 in /srv/conda/envs/notebook/lib/python3.7/site-packages (from ipykernel) (6.0.3)\n",
      "Requirement already satisfied: urllib3!=1.25.0,!=1.25.1,<1.26,>=1.21.1 in /srv/conda/envs/notebook/lib/python3.7/site-packages (from requests->panda) (1.25.3)\n",
      "Requirement already satisfied: idna<2.9,>=2.5 in /srv/conda/envs/notebook/lib/python3.7/site-packages (from requests->panda) (2.8)\n",
      "Requirement already satisfied: chardet<3.1.0,>=3.0.2 in /srv/conda/envs/notebook/lib/python3.7/site-packages (from requests->panda) (3.0.4)\n",
      "Requirement already satisfied: certifi>=2017.4.17 in /srv/conda/envs/notebook/lib/python3.7/site-packages (from requests->panda) (2019.9.11)\n",
      "Collecting pyparsing!=2.0.4,!=2.1.2,!=2.1.6,>=2.0.1 (from matplotlib->plot)\n",
      "\u001b[?25l  Downloading https://files.pythonhosted.org/packages/c0/0c/fc2e007d9a992d997f04a80125b0f183da7fb554f1de701bbb70a8e7d479/pyparsing-2.4.5-py2.py3-none-any.whl (67kB)\n",
      "\u001b[K     |████████████████████████████████| 71kB 29.6MB/s eta 0:00:01\n",
      "\u001b[?25hCollecting cycler>=0.10 (from matplotlib->plot)\n",
      "  Downloading https://files.pythonhosted.org/packages/f7/d2/e07d3ebb2bd7af696440ce7e754c59dd546ffe1bbe732c8ab68b9c834e61/cycler-0.10.0-py2.py3-none-any.whl\n",
      "Collecting kiwisolver>=1.0.1 (from matplotlib->plot)\n",
      "\u001b[?25l  Downloading https://files.pythonhosted.org/packages/93/f8/518fb0bb89860eea6ff1b96483fbd9236d5ee991485d0f3eceff1770f654/kiwisolver-1.1.0-cp37-cp37m-manylinux1_x86_64.whl (90kB)\n",
      "\u001b[K     |████████████████████████████████| 92kB 27.0MB/s eta 0:00:01\n",
      "\u001b[?25hRequirement already satisfied: six>=1.5 in /srv/conda/envs/notebook/lib/python3.7/site-packages (from python-dateutil>=2.6.1->pandas) (1.12.0)\n",
      "Requirement already satisfied: jupyter-core in /srv/conda/envs/notebook/lib/python3.7/site-packages (from jupyter-client->ipykernel) (4.4.0)\n",
      "Requirement already satisfied: pyzmq>=13 in /srv/conda/envs/notebook/lib/python3.7/site-packages (from jupyter-client->ipykernel) (18.1.0)\n",
      "Requirement already satisfied: ipython_genutils in /srv/conda/envs/notebook/lib/python3.7/site-packages (from traitlets>=4.1.0->ipykernel) (0.2.0)\n",
      "Requirement already satisfied: decorator in /srv/conda/envs/notebook/lib/python3.7/site-packages (from traitlets>=4.1.0->ipykernel) (4.4.0)\n",
      "Requirement already satisfied: pickleshare in /srv/conda/envs/notebook/lib/python3.7/site-packages (from ipython>=5.0.0->ipykernel) (0.7.5)\n",
      "Requirement already satisfied: jedi>=0.10 in /srv/conda/envs/notebook/lib/python3.7/site-packages (from ipython>=5.0.0->ipykernel) (0.15.1)\n",
      "Requirement already satisfied: backcall in /srv/conda/envs/notebook/lib/python3.7/site-packages (from ipython>=5.0.0->ipykernel) (0.1.0)\n",
      "Requirement already satisfied: pygments in /srv/conda/envs/notebook/lib/python3.7/site-packages (from ipython>=5.0.0->ipykernel) (2.4.2)\n",
      "Requirement already satisfied: pexpect; sys_platform != \"win32\" in /srv/conda/envs/notebook/lib/python3.7/site-packages (from ipython>=5.0.0->ipykernel) (4.7.0)\n",
      "Requirement already satisfied: prompt-toolkit<2.1.0,>=2.0.0 in /srv/conda/envs/notebook/lib/python3.7/site-packages (from ipython>=5.0.0->ipykernel) (2.0.9)\n",
      "Requirement already satisfied: parso>=0.5.0 in /srv/conda/envs/notebook/lib/python3.7/site-packages (from jedi>=0.10->ipython>=5.0.0->ipykernel) (0.5.1)\n",
      "Requirement already satisfied: ptyprocess>=0.5 in /srv/conda/envs/notebook/lib/python3.7/site-packages (from pexpect; sys_platform != \"win32\"->ipython>=5.0.0->ipykernel) (0.6.0)\n",
      "Requirement already satisfied: wcwidth in /srv/conda/envs/notebook/lib/python3.7/site-packages (from prompt-toolkit<2.1.0,>=2.0.0->ipython>=5.0.0->ipykernel) (0.1.7)\n",
      "Building wheels for collected packages: beakerx, panda, chart, pyyaml\n",
      "  Building wheel for beakerx (setup.py) ... \u001b[?25ldone\n",
      "\u001b[?25h  Created wheel for beakerx: filename=beakerx-1.4.1-py2.py3-none-any.whl size=118258373 sha256=b477dc948c7b0aaed51ca13fc2385993ec0e854149c56a9ef4a0582bd34269dc\n",
      "  Stored in directory: /home/jovyan/.cache/pip/wheels/ab/33/ed/1cb9c7d0c88c3c84b02f9a3299f24486ab9f0df58e85a9dd91\n",
      "  Building wheel for panda (setup.py) ... \u001b[?25ldone\n",
      "\u001b[?25h  Created wheel for panda: filename=panda-0.3.1-cp37-none-any.whl size=7259 sha256=f53171b8993ea685ecdab40535d99ebb2499c8fc89f33a2f1e2935f787498e24\n",
      "  Stored in directory: /home/jovyan/.cache/pip/wheels/c6/c8/45/06ed898b0bb401c1ff207dbb05b1587ff28860a236d98b1996\n",
      "  Building wheel for chart (setup.py) ... \u001b[?25ldone\n",
      "\u001b[?25h  Created wheel for chart: filename=chart-0.2.3-cp37-none-any.whl size=6953 sha256=a521c40e3b43ae7d41b3474547852e2c5a745f39cf171074650a6c9040e8a5ae\n",
      "  Stored in directory: /home/jovyan/.cache/pip/wheels/63/50/5d/37d17feb3865565949f0ef50949456ce01aff1a8197f5bd6da\n",
      "  Building wheel for pyyaml (setup.py) ... \u001b[?25ldone\n",
      "\u001b[?25h  Created wheel for pyyaml: filename=PyYAML-5.2-cp37-cp37m-linux_x86_64.whl size=392335 sha256=74dd70f81532ab4f03461e47dfb82bc4c5df89bd5fbd39a112c6f9a4b1eb3d85\n",
      "  Stored in directory: /home/jovyan/.cache/pip/wheels/54/b7/c7/2ada654ee54483c9329871665aaf4a6056c3ce36f29cf66e67\n",
      "Successfully built beakerx panda chart pyyaml\n",
      "Installing collected packages: beakerx, panda, pyparsing, numpy, cycler, kiwisolver, matplotlib, pyyaml, typing, plot, chart, pytz, pandas, py4j\n",
      "Successfully installed beakerx-1.4.1 chart-0.2.3 cycler-0.10.0 kiwisolver-1.1.0 matplotlib-3.1.2 numpy-1.17.4 panda-0.3.1 pandas-0.25.3 plot-0.6.4 py4j-0.10.8.1 pyparsing-2.4.5 pytz-2019.3 pyyaml-5.2 typing-3.7.4.1\n",
      "Note: you may need to restart the kernel to use updated packages.\n"
     ]
    }
   ],
   "source": [
    "pip install beakerx panda plot chart pandas py4j ipykernel"
   ]
  },
  {
   "cell_type": "code",
   "execution_count": 9,
   "metadata": {},
   "outputs": [
    {
     "name": "stdout",
     "output_type": "stream",
     "text": [
      "Installing /srv/conda/envs/notebook/lib/python3.7/site-packages/beakerx/static -> beakerx\n",
      "Up to date: /srv/conda/envs/notebook/share/jupyter/nbextensions/beakerx/index.js\n",
      "Up to date: /srv/conda/envs/notebook/share/jupyter/nbextensions/beakerx/extension.js\n",
      "Up to date: /srv/conda/envs/notebook/share/jupyter/nbextensions/beakerx/extension.js.map\n",
      "Up to date: /srv/conda/envs/notebook/share/jupyter/nbextensions/beakerx/index.js.map\n",
      "Up to date: /srv/conda/envs/notebook/share/jupyter/nbextensions/beakerx/tree.js.map\n",
      "Up to date: /srv/conda/envs/notebook/share/jupyter/nbextensions/beakerx/urls.js\n",
      "Up to date: /srv/conda/envs/notebook/share/jupyter/nbextensions/beakerx/tree.js\n",
      "Up to date: /srv/conda/envs/notebook/share/jupyter/nbextensions/beakerx/custom/custom.css\n",
      "Up to date: /srv/conda/envs/notebook/share/jupyter/nbextensions/beakerx/custom/fonts/lato/Lato-Black.ttf\n",
      "Up to date: /srv/conda/envs/notebook/share/jupyter/nbextensions/beakerx/custom/fonts/lato/Lato-Regular.woff\n",
      "Up to date: /srv/conda/envs/notebook/share/jupyter/nbextensions/beakerx/custom/fonts/lato/Lato-Regular.ttf\n",
      "Up to date: /srv/conda/envs/notebook/share/jupyter/nbextensions/beakerx/custom/fonts/lato/Lato-Black.woff\n",
      "Up to date: /srv/conda/envs/notebook/share/jupyter/nbextensions/beakerx/custom/fonts/robotomono/robotomono-bold.woff\n",
      "Up to date: /srv/conda/envs/notebook/share/jupyter/nbextensions/beakerx/custom/fonts/robotomono/robotomono-bold.ttf\n",
      "Up to date: /srv/conda/envs/notebook/share/jupyter/nbextensions/beakerx/custom/fonts/robotomono/robotomono.woff2\n",
      "Up to date: /srv/conda/envs/notebook/share/jupyter/nbextensions/beakerx/custom/fonts/robotomono/robotomono.ttf\n",
      "Up to date: /srv/conda/envs/notebook/share/jupyter/nbextensions/beakerx/custom/fonts/robotomono/robotomono.woff\n",
      "- Validating: \u001b[32mOK\u001b[0m\n",
      "Installing /srv/conda/envs/notebook/lib/python3.7/site-packages/beakerx/static -> beakerx\n",
      "Up to date: /srv/conda/envs/notebook/share/jupyter/nbextensions/beakerx/index.js\n",
      "Up to date: /srv/conda/envs/notebook/share/jupyter/nbextensions/beakerx/extension.js\n",
      "Up to date: /srv/conda/envs/notebook/share/jupyter/nbextensions/beakerx/extension.js.map\n",
      "Up to date: /srv/conda/envs/notebook/share/jupyter/nbextensions/beakerx/index.js.map\n",
      "Up to date: /srv/conda/envs/notebook/share/jupyter/nbextensions/beakerx/tree.js.map\n",
      "Up to date: /srv/conda/envs/notebook/share/jupyter/nbextensions/beakerx/urls.js\n",
      "Up to date: /srv/conda/envs/notebook/share/jupyter/nbextensions/beakerx/tree.js\n",
      "Up to date: /srv/conda/envs/notebook/share/jupyter/nbextensions/beakerx/custom/custom.css\n",
      "Up to date: /srv/conda/envs/notebook/share/jupyter/nbextensions/beakerx/custom/fonts/lato/Lato-Black.ttf\n",
      "Up to date: /srv/conda/envs/notebook/share/jupyter/nbextensions/beakerx/custom/fonts/lato/Lato-Regular.woff\n",
      "Up to date: /srv/conda/envs/notebook/share/jupyter/nbextensions/beakerx/custom/fonts/lato/Lato-Regular.ttf\n",
      "Up to date: /srv/conda/envs/notebook/share/jupyter/nbextensions/beakerx/custom/fonts/lato/Lato-Black.woff\n",
      "Up to date: /srv/conda/envs/notebook/share/jupyter/nbextensions/beakerx/custom/fonts/robotomono/robotomono-bold.woff\n",
      "Up to date: /srv/conda/envs/notebook/share/jupyter/nbextensions/beakerx/custom/fonts/robotomono/robotomono-bold.ttf\n",
      "Up to date: /srv/conda/envs/notebook/share/jupyter/nbextensions/beakerx/custom/fonts/robotomono/robotomono.woff2\n",
      "Up to date: /srv/conda/envs/notebook/share/jupyter/nbextensions/beakerx/custom/fonts/robotomono/robotomono.ttf\n",
      "Up to date: /srv/conda/envs/notebook/share/jupyter/nbextensions/beakerx/custom/fonts/robotomono/robotomono.woff\n",
      "- Validating: \u001b[32mOK\u001b[0m\n",
      "\n",
      "    To initialize this nbextension in the browser every time the notebook (or other app) loads:\n",
      "    \n",
      "          jupyter nbextension enable beakerx --py --sys-prefix\n",
      "    \n",
      "Enabling tree extension beakerx/tree...\n",
      "      - Validating: \u001b[32mOK\u001b[0m\n",
      "Enabling notebook extension beakerx/extension...\n",
      "      - Validating: \u001b[32mOK\u001b[0m\n"
     ]
    }
   ],
   "source": [
    "!jupyter nbextension install beakerx --py --sys-prefix\n",
    "!jupyter nbextension enable beakerx --py --sys-prefix"
   ]
  },
  {
   "cell_type": "code",
   "execution_count": 4,
   "metadata": {},
   "outputs": [
    {
     "name": "stdout",
     "output_type": "stream",
     "text": [
      "python3\r\n"
     ]
    }
   ],
   "source": [
    "!ls /srv/conda/envs/notebook/share/jupyter/kernels"
   ]
  },
  {
   "cell_type": "code",
   "execution_count": 5,
   "metadata": {},
   "outputs": [
    {
     "name": "stdout",
     "output_type": "stream",
     "text": [
      "[InstallKernelSpec] Installed kernelspec kotlin in /srv/conda/envs/notebook/share/jupyter/kernels/kotlin\r\n"
     ]
    }
   ],
   "source": [
    "!jupyter kernelspec install --sys-prefix --replace --name kotlin /srv/conda/envs/notebook/lib/python3.7/site-packages/beakerx/kernel/kotlin"
   ]
  },
  {
   "cell_type": "code",
   "execution_count": 6,
   "metadata": {},
   "outputs": [],
   "source": [
    "!sed -i 's/${PATH}/\"___PATH___\"/g' /srv/conda/envs/notebook/share/jupyter/kernels/kotlin/kernel.json"
   ]
  },
  {
   "cell_type": "code",
   "execution_count": 7,
   "metadata": {},
   "outputs": [
    {
     "name": "stdout",
     "output_type": "stream",
     "text": [
      "Available kernels:\r\n",
      "  kotlin     /srv/conda/envs/notebook/share/jupyter/kernels/kotlin\r\n",
      "  python3    /srv/conda/envs/notebook/share/jupyter/kernels/python3\r\n"
     ]
    }
   ],
   "source": [
    "!jupyter kernelspec list\n"
   ]
  },
  {
   "cell_type": "code",
   "execution_count": 8,
   "metadata": {},
   "outputs": [
    {
     "name": "stdout",
     "output_type": "stream",
     "text": [
      "{\r\n",
      "  \"argv\": [\r\n",
      "    \"java\", \"-cp\", \"___PATH___\", \"com.twosigma.beakerx.kotlin.kernel.Kotlin\",  \"{connection_file}\"\r\n",
      "  ],\r\n",
      "  \"display_name\": \"Kotlin\",\r\n",
      "  \"language\": \"kotlin\",\r\n",
      "  \"env\": { \"PS1\":\"kotlin>\"}\r\n",
      "}\r\n"
     ]
    }
   ],
   "source": [
    "!cat /srv/conda/envs/notebook/share/jupyter/kernels/kotlin/kernel.json"
   ]
  },
  {
   "cell_type": "code",
   "execution_count": 9,
   "metadata": {},
   "outputs": [
    {
     "name": "stdout",
     "output_type": "stream",
     "text": [
      "{\r\n",
      " \"argv\": [\r\n",
      "  \"/srv/conda/envs/notebook/bin/python\",\r\n",
      "  \"-m\",\r\n",
      "  \"ipykernel_launcher\",\r\n",
      "  \"-f\",\r\n",
      "  \"{connection_file}\"\r\n",
      " ],\r\n",
      " \"display_name\": \"Python 3\",\r\n",
      " \"language\": \"python\"\r\n",
      "}"
     ]
    }
   ],
   "source": [
    "!cat /srv/conda/envs/notebook/share/jupyter/kernels/python3/kernel.json"
   ]
  },
  {
   "cell_type": "code",
   "execution_count": 10,
   "metadata": {},
   "outputs": [
    {
     "name": "stdout",
     "output_type": "stream",
     "text": [
      "Collecting package metadata (current_repodata.json): done\n",
      "Solving environment: done\n",
      "\n",
      "## Package Plan ##\n",
      "\n",
      "  environment location: /srv/conda/envs/notebook\n",
      "\n",
      "  added / updated specs:\n",
      "    - openjdk\n",
      "\n",
      "\n",
      "The following packages will be downloaded:\n",
      "\n",
      "    package                    |            build\n",
      "    ---------------------------|-----------------\n",
      "    ca-certificates-2019.11.27 |                0         132 KB  anaconda\n",
      "    certifi-2019.11.28         |           py37_0         156 KB  anaconda\n",
      "    openjdk-8.0.152            |       h46b5887_1       128.6 MB  anaconda\n",
      "    openssl-1.1.1              |       h7b6447c_0         5.0 MB  anaconda\n",
      "    ------------------------------------------------------------\n",
      "                                           Total:       133.9 MB\n",
      "\n",
      "The following NEW packages will be INSTALLED:\n",
      "\n",
      "  openjdk            anaconda/linux-64::openjdk-8.0.152-h46b5887_1\n",
      "\n",
      "The following packages will be UPDATED:\n",
      "\n",
      "  ca-certificates    conda-forge::ca-certificates-2019.9.1~ --> anaconda::ca-certificates-2019.11.27-0\n",
      "  certifi             conda-forge::certifi-2019.9.11-py37_0 --> anaconda::certifi-2019.11.28-py37_0\n",
      "  openssl            conda-forge::openssl-1.1.1c-h516909a_0 --> anaconda::openssl-1.1.1-h7b6447c_0\n",
      "\n",
      "\n",
      "\n",
      "Downloading and Extracting Packages\n",
      "openssl-1.1.1        | 5.0 MB    | ##################################### | 100% \n",
      "openjdk-8.0.152      | 128.6 MB  | ##################################### | 100% \n",
      "ca-certificates-2019 | 132 KB    | ##################################### | 100% \n",
      "certifi-2019.11.28   | 156 KB    | ##################################### | 100% \n",
      "Preparing transaction: done\n",
      "Verifying transaction: done\n",
      "Executing transaction: done\n"
     ]
    }
   ],
   "source": [
    "!conda install -c anaconda openjdk -y"
   ]
  },
  {
   "cell_type": "code",
   "execution_count": 13,
   "metadata": {},
   "outputs": [
    {
     "name": "stdout",
     "output_type": "stream",
     "text": [
      "openjdk version \"1.8.0_152-release\"\r\n",
      "OpenJDK Runtime Environment (build 1.8.0_152-release-1056-b12)\r\n",
      "OpenJDK 64-Bit Server VM (build 25.152-b12, mixed mode)\r\n"
     ]
    }
   ],
   "source": [
    "!java -version"
   ]
  },
  {
   "cell_type": "code",
   "execution_count": null,
   "metadata": {},
   "outputs": [],
   "source": []
  }
 ],
 "metadata": {
  "kernelspec": {
   "display_name": "Python 3",
   "language": "python",
   "name": "python3"
  },
  "language_info": {
   "codemirror_mode": {
    "name": "ipython",
    "version": 3
   },
   "file_extension": ".py",
   "mimetype": "text/x-python",
   "name": "python",
   "nbconvert_exporter": "python",
   "pygments_lexer": "ipython3",
   "version": "3.7.3"
  },
  "toc": {
   "base_numbering": 1,
   "nav_menu": {},
   "number_sections": false,
   "sideBar": false,
   "skip_h1_title": false,
   "title_cell": "Table of Contents",
   "title_sidebar": "Contents",
   "toc_cell": false,
   "toc_position": {},
   "toc_section_display": false,
   "toc_window_display": false
  }
 },
 "nbformat": 4,
 "nbformat_minor": 2
}
