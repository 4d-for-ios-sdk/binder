{
 "cells": [
  {
   "cell_type": "markdown",
   "metadata": {},
   "source": [
    "# Kotlin\n",
    "\n",
    "[Kotlin](https://kotlinlang.org/) is a relative newcomer from [JetBrains](https://www.jetbrains.com/) and [Android](https://developer.android.com/kotlin/get-started.html).  It's intended to be an improved version of Java, including [Null Safety](https://kotlinlang.org/docs/reference/null-safety.html)."
   ]
  },
  {
   "cell_type": "code",
   "execution_count": null,
   "metadata": {},
   "outputs": [],
   "source": [
    "fun double(x: Int): Int {\n",
    "    return 2*x\n",
    "}\n",
    "val x = 23"
   ]
  },
  {
   "cell_type": "code",
   "execution_count": null,
   "metadata": {},
   "outputs": [],
   "source": [
    "\"hello, \" + double(3) + x"
   ]
  },
  {
   "cell_type": "code",
   "execution_count": null,
   "metadata": {},
   "outputs": [],
   "source": [
    "val numbers: MutableList<Number> = mutableListOf(1, 4, 3)\n",
    "val line = Line()\n",
    "line.setY(numbers)\n",
    "val plot = Plot()\n",
    "plot.setTitle(\"Kotlin Plotting\")\n",
    "plot.add(line)\n",
    "plot"
   ]
  },
  {
   "cell_type": "code",
   "execution_count": 2,
   "metadata": {},
   "outputs": [],
   "source": [
    "import sys"
   ]
  },
  {
   "cell_type": "code",
   "execution_count": null,
   "metadata": {},
   "outputs": [],
   "source": [
    "pip install beakerx panda plot chart pandas py4j ipykernel"
   ]
  },
  {
   "cell_type": "code",
   "execution_count": 2,
   "metadata": {},
   "outputs": [
    {
     "name": "stdout",
     "output_type": "stream",
     "text": [
      "Requirement already satisfied: ipykernel in /srv/conda/envs/notebook/lib/python3.7/site-packages (5.1.2)\n",
      "Requirement already satisfied: tornado>=4.2 in /srv/conda/envs/notebook/lib/python3.7/site-packages (from ipykernel) (6.0.3)\n",
      "Requirement already satisfied: jupyter-client in /srv/conda/envs/notebook/lib/python3.7/site-packages (from ipykernel) (5.3.1)\n",
      "Requirement already satisfied: traitlets>=4.1.0 in /srv/conda/envs/notebook/lib/python3.7/site-packages (from ipykernel) (4.3.2)\n",
      "Requirement already satisfied: ipython>=5.0.0 in /srv/conda/envs/notebook/lib/python3.7/site-packages (from ipykernel) (7.8.0)\n",
      "Requirement already satisfied: python-dateutil>=2.1 in /srv/conda/envs/notebook/lib/python3.7/site-packages (from jupyter-client->ipykernel) (2.8.0)\n",
      "Requirement already satisfied: pyzmq>=13 in /srv/conda/envs/notebook/lib/python3.7/site-packages (from jupyter-client->ipykernel) (18.1.0)\n",
      "Requirement already satisfied: jupyter-core in /srv/conda/envs/notebook/lib/python3.7/site-packages (from jupyter-client->ipykernel) (4.4.0)\n",
      "Requirement already satisfied: ipython_genutils in /srv/conda/envs/notebook/lib/python3.7/site-packages (from traitlets>=4.1.0->ipykernel) (0.2.0)\n",
      "Requirement already satisfied: six in /srv/conda/envs/notebook/lib/python3.7/site-packages (from traitlets>=4.1.0->ipykernel) (1.12.0)\n",
      "Requirement already satisfied: decorator in /srv/conda/envs/notebook/lib/python3.7/site-packages (from traitlets>=4.1.0->ipykernel) (4.4.0)\n",
      "Requirement already satisfied: backcall in /srv/conda/envs/notebook/lib/python3.7/site-packages (from ipython>=5.0.0->ipykernel) (0.1.0)\n",
      "Requirement already satisfied: setuptools>=18.5 in /srv/conda/envs/notebook/lib/python3.7/site-packages (from ipython>=5.0.0->ipykernel) (41.2.0)\n",
      "Requirement already satisfied: pygments in /srv/conda/envs/notebook/lib/python3.7/site-packages (from ipython>=5.0.0->ipykernel) (2.4.2)\n",
      "Requirement already satisfied: pickleshare in /srv/conda/envs/notebook/lib/python3.7/site-packages (from ipython>=5.0.0->ipykernel) (0.7.5)\n",
      "Requirement already satisfied: pexpect; sys_platform != \"win32\" in /srv/conda/envs/notebook/lib/python3.7/site-packages (from ipython>=5.0.0->ipykernel) (4.7.0)\n",
      "Requirement already satisfied: jedi>=0.10 in /srv/conda/envs/notebook/lib/python3.7/site-packages (from ipython>=5.0.0->ipykernel) (0.15.1)\n",
      "Requirement already satisfied: prompt-toolkit<2.1.0,>=2.0.0 in /srv/conda/envs/notebook/lib/python3.7/site-packages (from ipython>=5.0.0->ipykernel) (2.0.9)\n",
      "Requirement already satisfied: ptyprocess>=0.5 in /srv/conda/envs/notebook/lib/python3.7/site-packages (from pexpect; sys_platform != \"win32\"->ipython>=5.0.0->ipykernel) (0.6.0)\n",
      "Requirement already satisfied: parso>=0.5.0 in /srv/conda/envs/notebook/lib/python3.7/site-packages (from jedi>=0.10->ipython>=5.0.0->ipykernel) (0.5.1)\n",
      "Requirement already satisfied: wcwidth in /srv/conda/envs/notebook/lib/python3.7/site-packages (from prompt-toolkit<2.1.0,>=2.0.0->ipython>=5.0.0->ipykernel) (0.1.7)\n",
      "Note: you may need to restart the kernel to use updated packages.\n"
     ]
    }
   ],
   "source": [
    "pip install ipykernel"
   ]
  },
  {
   "cell_type": "code",
   "execution_count": 9,
   "metadata": {},
   "outputs": [
    {
     "name": "stdout",
     "output_type": "stream",
     "text": [
      "Installing /srv/conda/envs/notebook/lib/python3.7/site-packages/beakerx/static -> beakerx\n",
      "Up to date: /srv/conda/envs/notebook/share/jupyter/nbextensions/beakerx/index.js\n",
      "Up to date: /srv/conda/envs/notebook/share/jupyter/nbextensions/beakerx/extension.js\n",
      "Up to date: /srv/conda/envs/notebook/share/jupyter/nbextensions/beakerx/extension.js.map\n",
      "Up to date: /srv/conda/envs/notebook/share/jupyter/nbextensions/beakerx/index.js.map\n",
      "Up to date: /srv/conda/envs/notebook/share/jupyter/nbextensions/beakerx/tree.js.map\n",
      "Up to date: /srv/conda/envs/notebook/share/jupyter/nbextensions/beakerx/urls.js\n",
      "Up to date: /srv/conda/envs/notebook/share/jupyter/nbextensions/beakerx/tree.js\n",
      "Up to date: /srv/conda/envs/notebook/share/jupyter/nbextensions/beakerx/custom/custom.css\n",
      "Up to date: /srv/conda/envs/notebook/share/jupyter/nbextensions/beakerx/custom/fonts/lato/Lato-Black.ttf\n",
      "Up to date: /srv/conda/envs/notebook/share/jupyter/nbextensions/beakerx/custom/fonts/lato/Lato-Regular.woff\n",
      "Up to date: /srv/conda/envs/notebook/share/jupyter/nbextensions/beakerx/custom/fonts/lato/Lato-Regular.ttf\n",
      "Up to date: /srv/conda/envs/notebook/share/jupyter/nbextensions/beakerx/custom/fonts/lato/Lato-Black.woff\n",
      "Up to date: /srv/conda/envs/notebook/share/jupyter/nbextensions/beakerx/custom/fonts/robotomono/robotomono-bold.woff\n",
      "Up to date: /srv/conda/envs/notebook/share/jupyter/nbextensions/beakerx/custom/fonts/robotomono/robotomono-bold.ttf\n",
      "Up to date: /srv/conda/envs/notebook/share/jupyter/nbextensions/beakerx/custom/fonts/robotomono/robotomono.woff2\n",
      "Up to date: /srv/conda/envs/notebook/share/jupyter/nbextensions/beakerx/custom/fonts/robotomono/robotomono.ttf\n",
      "Up to date: /srv/conda/envs/notebook/share/jupyter/nbextensions/beakerx/custom/fonts/robotomono/robotomono.woff\n",
      "- Validating: \u001b[32mOK\u001b[0m\n",
      "Installing /srv/conda/envs/notebook/lib/python3.7/site-packages/beakerx/static -> beakerx\n",
      "Up to date: /srv/conda/envs/notebook/share/jupyter/nbextensions/beakerx/index.js\n",
      "Up to date: /srv/conda/envs/notebook/share/jupyter/nbextensions/beakerx/extension.js\n",
      "Up to date: /srv/conda/envs/notebook/share/jupyter/nbextensions/beakerx/extension.js.map\n",
      "Up to date: /srv/conda/envs/notebook/share/jupyter/nbextensions/beakerx/index.js.map\n",
      "Up to date: /srv/conda/envs/notebook/share/jupyter/nbextensions/beakerx/tree.js.map\n",
      "Up to date: /srv/conda/envs/notebook/share/jupyter/nbextensions/beakerx/urls.js\n",
      "Up to date: /srv/conda/envs/notebook/share/jupyter/nbextensions/beakerx/tree.js\n",
      "Up to date: /srv/conda/envs/notebook/share/jupyter/nbextensions/beakerx/custom/custom.css\n",
      "Up to date: /srv/conda/envs/notebook/share/jupyter/nbextensions/beakerx/custom/fonts/lato/Lato-Black.ttf\n",
      "Up to date: /srv/conda/envs/notebook/share/jupyter/nbextensions/beakerx/custom/fonts/lato/Lato-Regular.woff\n",
      "Up to date: /srv/conda/envs/notebook/share/jupyter/nbextensions/beakerx/custom/fonts/lato/Lato-Regular.ttf\n",
      "Up to date: /srv/conda/envs/notebook/share/jupyter/nbextensions/beakerx/custom/fonts/lato/Lato-Black.woff\n",
      "Up to date: /srv/conda/envs/notebook/share/jupyter/nbextensions/beakerx/custom/fonts/robotomono/robotomono-bold.woff\n",
      "Up to date: /srv/conda/envs/notebook/share/jupyter/nbextensions/beakerx/custom/fonts/robotomono/robotomono-bold.ttf\n",
      "Up to date: /srv/conda/envs/notebook/share/jupyter/nbextensions/beakerx/custom/fonts/robotomono/robotomono.woff2\n",
      "Up to date: /srv/conda/envs/notebook/share/jupyter/nbextensions/beakerx/custom/fonts/robotomono/robotomono.ttf\n",
      "Up to date: /srv/conda/envs/notebook/share/jupyter/nbextensions/beakerx/custom/fonts/robotomono/robotomono.woff\n",
      "- Validating: \u001b[32mOK\u001b[0m\n",
      "\n",
      "    To initialize this nbextension in the browser every time the notebook (or other app) loads:\n",
      "    \n",
      "          jupyter nbextension enable beakerx --py --sys-prefix\n",
      "    \n",
      "Enabling tree extension beakerx/tree...\n",
      "      - Validating: \u001b[32mOK\u001b[0m\n",
      "Enabling notebook extension beakerx/extension...\n",
      "      - Validating: \u001b[32mOK\u001b[0m\n"
     ]
    }
   ],
   "source": [
    "!jupyter nbextension install beakerx --py --sys-prefix\n",
    "!jupyter nbextension enable beakerx --py --sys-prefix"
   ]
  },
  {
   "cell_type": "code",
   "execution_count": 8,
   "metadata": {},
   "outputs": [
    {
     "name": "stdout",
     "output_type": "stream",
     "text": [
      "kotlin\tpython3\r\n"
     ]
    }
   ],
   "source": [
    "!ls /srv/conda/envs/notebook/share/jupyter/kernels"
   ]
  },
  {
   "cell_type": "code",
   "execution_count": 6,
   "metadata": {},
   "outputs": [
    {
     "name": "stdout",
     "output_type": "stream",
     "text": [
      "[InstallKernelSpec] Installed kernelspec kotlin in /srv/conda/envs/notebook/share/jupyter/kernels/kotlin\r\n"
     ]
    }
   ],
   "source": [
    "!jupyter kernelspec install --sys-prefix --replace --name kotlin /srv/conda/envs/notebook/lib/python3.7/site-packages/beakerx/kernel/kotlin"
   ]
  },
  {
   "cell_type": "code",
   "execution_count": 23,
   "metadata": {},
   "outputs": [],
   "source": [
    "!sed -i 's/${PATH}/\"___PATH___\"/g' /srv/conda/envs/notebook/share/jupyter/kernels/kotlin/kernel.json"
   ]
  },
  {
   "cell_type": "code",
   "execution_count": 25,
   "metadata": {},
   "outputs": [
    {
     "name": "stdout",
     "output_type": "stream",
     "text": [
      "Available kernels:\r\n",
      "  kotlin     /srv/conda/envs/notebook/share/jupyter/kernels/kotlin\r\n",
      "  python3    /srv/conda/envs/notebook/share/jupyter/kernels/python3\r\n"
     ]
    }
   ],
   "source": [
    "!jupyter kernelspec list\n"
   ]
  },
  {
   "cell_type": "code",
   "execution_count": 24,
   "metadata": {},
   "outputs": [
    {
     "name": "stdout",
     "output_type": "stream",
     "text": [
      "{\r\n",
      "  \"argv\": [\r\n",
      "    \"java\", \"-cp\", \"___PATH___\", \"com.twosigma.beakerx.kotlin.kernel.Kotlin\",  \"{connection_file}\"\r\n",
      "  ],\r\n",
      "  \"display_name\": \"Kotlin\",\r\n",
      "  \"language\": \"kotlin\",\r\n",
      "  \"env\": { \"PS1\":\"kotlin>\"}\r\n",
      "}\r\n"
     ]
    }
   ],
   "source": [
    "!cat /srv/conda/envs/notebook/share/jupyter/kernels/kotlin/kernel.json"
   ]
  },
  {
   "cell_type": "code",
   "execution_count": 15,
   "metadata": {},
   "outputs": [
    {
     "name": "stdout",
     "output_type": "stream",
     "text": [
      "{\r\n",
      " \"argv\": [\r\n",
      "  \"/srv/conda/envs/notebook/bin/python\",\r\n",
      "  \"-m\",\r\n",
      "  \"ipykernel_launcher\",\r\n",
      "  \"-f\",\r\n",
      "  \"{connection_file}\"\r\n",
      " ],\r\n",
      " \"display_name\": \"Python 3\",\r\n",
      " \"language\": \"python\"\r\n",
      "}"
     ]
    }
   ],
   "source": [
    "!cat /srv/conda/envs/notebook/share/jupyter/kernels/python3/kernel.json"
   ]
  },
  {
   "cell_type": "code",
   "execution_count": 4,
   "metadata": {},
   "outputs": [
    {
     "name": "stdout",
     "output_type": "stream",
     "text": [
      "Collecting package metadata (current_repodata.json): done\n",
      "Solving environment: done\n",
      "\n",
      "## Package Plan ##\n",
      "\n",
      "  environment location: /srv/conda/envs/notebook\n",
      "\n",
      "  added / updated specs:\n",
      "    - openjdk\n",
      "\n",
      "\n",
      "The following packages will be downloaded:\n",
      "\n",
      "    package                    |            build\n",
      "    ---------------------------|-----------------\n",
      "    ca-certificates-2019.11.27 |                0         132 KB  anaconda\n",
      "    certifi-2019.11.28         |           py37_0         156 KB  anaconda\n",
      "    openjdk-8.0.152            |       h46b5887_1       128.6 MB  anaconda\n",
      "    openssl-1.1.1              |       h7b6447c_0         5.0 MB  anaconda\n",
      "    ------------------------------------------------------------\n",
      "                                           Total:       133.9 MB\n",
      "\n",
      "The following NEW packages will be INSTALLED:\n",
      "\n",
      "  openjdk            anaconda/linux-64::openjdk-8.0.152-h46b5887_1\n",
      "\n",
      "The following packages will be UPDATED:\n",
      "\n",
      "  ca-certificates    conda-forge::ca-certificates-2019.9.1~ --> anaconda::ca-certificates-2019.11.27-0\n",
      "  certifi             conda-forge::certifi-2019.9.11-py37_0 --> anaconda::certifi-2019.11.28-py37_0\n",
      "  openssl            conda-forge::openssl-1.1.1c-h516909a_0 --> anaconda::openssl-1.1.1-h7b6447c_0\n",
      "\n",
      "\n",
      "\n",
      "Downloading and Extracting Packages\n",
      "openssl-1.1.1        | 5.0 MB    | ##################################### | 100% \n",
      "ca-certificates-2019 | 132 KB    | ##################################### | 100% \n",
      "certifi-2019.11.28   | 156 KB    | ##################################### | 100% \n",
      "openjdk-8.0.152      | 128.6 MB  | ##################################### | 100% \n",
      "Preparing transaction: done\n",
      "Verifying transaction: done\n",
      "Executing transaction: done\n"
     ]
    }
   ],
   "source": [
    "!conda install -c anaconda openjdk -y"
   ]
  },
  {
   "cell_type": "code",
   "execution_count": null,
   "metadata": {},
   "outputs": [],
   "source": [
    "!java version"
   ]
  }
 ],
 "metadata": {
  "kernelspec": {
   "display_name": "Kotlin",
   "language": "kotlin",
   "name": "kotlin"
  },
  "language_info": {
   "codemirror_mode": {
    "name": "ipython",
    "version": 3
   },
   "file_extension": ".py",
   "mimetype": "text/x-python",
   "name": "python",
   "nbconvert_exporter": "python",
   "pygments_lexer": "ipython3",
   "version": "3.7.3"
  },
  "toc": {
   "base_numbering": 1,
   "nav_menu": {},
   "number_sections": false,
   "sideBar": false,
   "skip_h1_title": false,
   "title_cell": "Table of Contents",
   "title_sidebar": "Contents",
   "toc_cell": false,
   "toc_position": {},
   "toc_section_display": false,
   "toc_window_display": false
  }
 },
 "nbformat": 4,
 "nbformat_minor": 2
}
